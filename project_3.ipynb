{
 "cells": [
  {
   "cell_type": "markdown",
   "metadata": {},
   "source": [
    "# DATA 620 Project 3\n",
    "### Natural Language Classification Model\n",
    "### Steven Ellingson"
   ]
  },
  {
   "cell_type": "code",
   "execution_count": 1,
   "metadata": {},
   "outputs": [],
   "source": [
    "import nltk\n",
    "import matplotlib.pyplot as plt\n",
    "import numpy as np\n",
    "import pandas as pd\n",
    "import seaborn as sns\n",
    "import re\n",
    "import warnings\n",
    "import os\n",
    "from sklearn.model_selection import train_test_split\n",
    "from sklearn.linear_model import LogisticRegression\n",
    "from sklearn.linear_model import LogisticRegressionCV\n",
    "\n",
    "from scipy import stats\n",
    "from xgboost import XGBClassifier\n",
    "from sklearn.model_selection import RandomizedSearchCV\n",
    "import numpy as np\n",
    "\n",
    "from sklearn.metrics import confusion_matrix\n",
    "warnings.filterwarnings('ignore')\n",
    "os.chdir('C:\\\\Users\\\\steven.ellingson\\\\PycharmProjects\\\\cuny')\n",
    "\n",
    "from nltk.corpus import names"
   ]
  },
  {
   "cell_type": "code",
   "execution_count": 2,
   "metadata": {
    "pycharm": {
     "name": "#%%\n"
    }
   },
   "outputs": [
    {
     "data": {
      "text/html": [
       "<div>\n",
       "<style scoped>\n",
       "    .dataframe tbody tr th:only-of-type {\n",
       "        vertical-align: middle;\n",
       "    }\n",
       "\n",
       "    .dataframe tbody tr th {\n",
       "        vertical-align: top;\n",
       "    }\n",
       "\n",
       "    .dataframe thead th {\n",
       "        text-align: right;\n",
       "    }\n",
       "</style>\n",
       "<table border=\"1\" class=\"dataframe\">\n",
       "  <thead>\n",
       "    <tr style=\"text-align: right;\">\n",
       "      <th></th>\n",
       "      <th>index</th>\n",
       "      <th>name</th>\n",
       "      <th>male</th>\n",
       "    </tr>\n",
       "  </thead>\n",
       "  <tbody>\n",
       "    <tr>\n",
       "      <th>0</th>\n",
       "      <td>0</td>\n",
       "      <td>aamir</td>\n",
       "      <td>1</td>\n",
       "    </tr>\n",
       "    <tr>\n",
       "      <th>1</th>\n",
       "      <td>1</td>\n",
       "      <td>aaron</td>\n",
       "      <td>1</td>\n",
       "    </tr>\n",
       "    <tr>\n",
       "      <th>2943</th>\n",
       "      <td>0</td>\n",
       "      <td>abagael</td>\n",
       "      <td>0</td>\n",
       "    </tr>\n",
       "    <tr>\n",
       "      <th>2944</th>\n",
       "      <td>1</td>\n",
       "      <td>abagail</td>\n",
       "      <td>0</td>\n",
       "    </tr>\n",
       "    <tr>\n",
       "      <th>2945</th>\n",
       "      <td>2</td>\n",
       "      <td>abbe</td>\n",
       "      <td>0</td>\n",
       "    </tr>\n",
       "    <tr>\n",
       "      <th>2946</th>\n",
       "      <td>3</td>\n",
       "      <td>abbey</td>\n",
       "      <td>0</td>\n",
       "    </tr>\n",
       "    <tr>\n",
       "      <th>2</th>\n",
       "      <td>2</td>\n",
       "      <td>abbey</td>\n",
       "      <td>1</td>\n",
       "    </tr>\n",
       "    <tr>\n",
       "      <th>2947</th>\n",
       "      <td>4</td>\n",
       "      <td>abbi</td>\n",
       "      <td>0</td>\n",
       "    </tr>\n",
       "    <tr>\n",
       "      <th>2948</th>\n",
       "      <td>5</td>\n",
       "      <td>abbie</td>\n",
       "      <td>0</td>\n",
       "    </tr>\n",
       "    <tr>\n",
       "      <th>3</th>\n",
       "      <td>3</td>\n",
       "      <td>abbie</td>\n",
       "      <td>1</td>\n",
       "    </tr>\n",
       "    <tr>\n",
       "      <th>4</th>\n",
       "      <td>4</td>\n",
       "      <td>abbot</td>\n",
       "      <td>1</td>\n",
       "    </tr>\n",
       "    <tr>\n",
       "      <th>5</th>\n",
       "      <td>5</td>\n",
       "      <td>abbott</td>\n",
       "      <td>1</td>\n",
       "    </tr>\n",
       "    <tr>\n",
       "      <th>2949</th>\n",
       "      <td>6</td>\n",
       "      <td>abby</td>\n",
       "      <td>0</td>\n",
       "    </tr>\n",
       "    <tr>\n",
       "      <th>6</th>\n",
       "      <td>6</td>\n",
       "      <td>abby</td>\n",
       "      <td>1</td>\n",
       "    </tr>\n",
       "    <tr>\n",
       "      <th>7</th>\n",
       "      <td>7</td>\n",
       "      <td>abdel</td>\n",
       "      <td>1</td>\n",
       "    </tr>\n",
       "    <tr>\n",
       "      <th>8</th>\n",
       "      <td>8</td>\n",
       "      <td>abdul</td>\n",
       "      <td>1</td>\n",
       "    </tr>\n",
       "    <tr>\n",
       "      <th>9</th>\n",
       "      <td>9</td>\n",
       "      <td>abdulkarim</td>\n",
       "      <td>1</td>\n",
       "    </tr>\n",
       "    <tr>\n",
       "      <th>10</th>\n",
       "      <td>10</td>\n",
       "      <td>abdullah</td>\n",
       "      <td>1</td>\n",
       "    </tr>\n",
       "    <tr>\n",
       "      <th>11</th>\n",
       "      <td>11</td>\n",
       "      <td>abe</td>\n",
       "      <td>1</td>\n",
       "    </tr>\n",
       "    <tr>\n",
       "      <th>12</th>\n",
       "      <td>12</td>\n",
       "      <td>abel</td>\n",
       "      <td>1</td>\n",
       "    </tr>\n",
       "  </tbody>\n",
       "</table>\n",
       "</div>"
      ],
      "text/plain": [
       "      index        name  male\n",
       "0         0       aamir     1\n",
       "1         1       aaron     1\n",
       "2943      0     abagael     0\n",
       "2944      1     abagail     0\n",
       "2945      2        abbe     0\n",
       "2946      3       abbey     0\n",
       "2         2       abbey     1\n",
       "2947      4        abbi     0\n",
       "2948      5       abbie     0\n",
       "3         3       abbie     1\n",
       "4         4       abbot     1\n",
       "5         5      abbott     1\n",
       "2949      6        abby     0\n",
       "6         6        abby     1\n",
       "7         7       abdel     1\n",
       "8         8       abdul     1\n",
       "9         9  abdulkarim     1\n",
       "10       10    abdullah     1\n",
       "11       11         abe     1\n",
       "12       12        abel     1"
      ]
     },
     "execution_count": 2,
     "metadata": {},
     "output_type": "execute_result"
    }
   ],
   "source": [
    "df = pd.DataFrame()\n",
    "df['name'] = names.words('male.txt')\n",
    "df['male'] = 1\n",
    "df2 = pd.DataFrame()\n",
    "df2['name'] = names.words('female.txt')\n",
    "df2['male'] = 0\n",
    "df = df.append(df2)\n",
    "df.reset_index(drop=False,inplace=True)\n",
    "df['name'] = df['name'].str.lower()\n",
    "df.sort_values('name').head(20)"
   ]
  },
  {
   "cell_type": "markdown",
   "metadata": {},
   "source": [
    "One thing I noticed is that they names are not distinct.  There are names that show up in both the male and female list:"
   ]
  },
  {
   "cell_type": "code",
   "execution_count": 3,
   "metadata": {},
   "outputs": [
    {
     "name": "stdout",
     "output_type": "stream",
     "text": [
      "There are 368 duplicate names in this dataset!\n",
      "['abbey', 'abbie', 'abby', 'addie', 'adrian', 'adrien', 'ajay', 'alex', 'alexis', 'alfie', 'ali', 'alix', 'allie', 'allyn', 'andie', 'andrea', 'andy', 'angel', 'angie', 'ariel']\n"
     ]
    }
   ],
   "source": [
    "dupe_df = df[df.duplicated('name')]\n",
    "dupe_df.sort_values('name', inplace=True)\n",
    "dupes = list(dupe_df.name)\n",
    "print('There are ' + str(len(dupes)) + ' duplicate names in this dataset!')\n",
    "print(dupes[0:20])"
   ]
  },
  {
   "cell_type": "markdown",
   "metadata": {},
   "source": [
    "Obviously this makes sense - Alex could be either a male or a female.  That being said I don't like that each of these just shows up twice in the dataset - i/e Stacy might be an androgynous name, but it's more likely to be female. This should either be a third category for our model, or we should be creating a regression to predict the percentage of a certain name that is male vs. female.  That being said the assignment was pretty specific about how to use this data and so I just left it for now."
   ]
  },
  {
   "cell_type": "code",
   "execution_count": 4,
   "metadata": {
    "pycharm": {
     "name": "#%%\n"
    }
   },
   "outputs": [
    {
     "name": "stdout",
     "output_type": "stream",
     "text": [
      "7944 6944 500 500\n"
     ]
    }
   ],
   "source": [
    "seed = 1254\n",
    "train,test = train_test_split(df, test_size=1000, random_state=seed)\n",
    "devtest,test = train_test_split(test, test_size=500, random_state=seed)\n",
    "\n",
    "#store these indexes for later, so we can easily pull from main df\n",
    "train_indexes = list(train.index)\n",
    "test_indexes = list(test.index)\n",
    "devtest_indexes = list(devtest.index)\n",
    "\n",
    "print(len(df),len(train),len(test),len(devtest))"
   ]
  },
  {
   "cell_type": "markdown",
   "metadata": {
    "pycharm": {
     "name": "#%% md\n"
    }
   },
   "source": [
    "I'll take starts and ends of names to create features.\n",
    "\n",
    "Let's just pull them into a dataframe to see how they perform."
   ]
  },
  {
   "cell_type": "code",
   "execution_count": 5,
   "metadata": {
    "pycharm": {
     "name": "#%%\n"
    }
   },
   "outputs": [
    {
     "data": {
      "text/html": [
       "<div>\n",
       "<style scoped>\n",
       "    .dataframe tbody tr th:only-of-type {\n",
       "        vertical-align: middle;\n",
       "    }\n",
       "\n",
       "    .dataframe tbody tr th {\n",
       "        vertical-align: top;\n",
       "    }\n",
       "\n",
       "    .dataframe thead th {\n",
       "        text-align: right;\n",
       "    }\n",
       "</style>\n",
       "<table border=\"1\" class=\"dataframe\">\n",
       "  <thead>\n",
       "    <tr style=\"text-align: right;\">\n",
       "      <th></th>\n",
       "      <th>location</th>\n",
       "      <th>string</th>\n",
       "      <th>length</th>\n",
       "      <th>count</th>\n",
       "      <th>male_pct</th>\n",
       "    </tr>\n",
       "  </thead>\n",
       "  <tbody>\n",
       "    <tr>\n",
       "      <th>5</th>\n",
       "      <td>end</td>\n",
       "      <td>e</td>\n",
       "      <td>1</td>\n",
       "      <td>1656</td>\n",
       "      <td>0.246981</td>\n",
       "    </tr>\n",
       "    <tr>\n",
       "      <th>1</th>\n",
       "      <td>end</td>\n",
       "      <td>a</td>\n",
       "      <td>1</td>\n",
       "      <td>1566</td>\n",
       "      <td>0.016603</td>\n",
       "    </tr>\n",
       "    <tr>\n",
       "      <th>14</th>\n",
       "      <td>end</td>\n",
       "      <td>n</td>\n",
       "      <td>1</td>\n",
       "      <td>742</td>\n",
       "      <td>0.551213</td>\n",
       "    </tr>\n",
       "    <tr>\n",
       "      <th>24</th>\n",
       "      <td>end</td>\n",
       "      <td>y</td>\n",
       "      <td>1</td>\n",
       "      <td>692</td>\n",
       "      <td>0.416185</td>\n",
       "    </tr>\n",
       "    <tr>\n",
       "      <th>12</th>\n",
       "      <td>beginning</td>\n",
       "      <td>m</td>\n",
       "      <td>1</td>\n",
       "      <td>602</td>\n",
       "      <td>0.299003</td>\n",
       "    </tr>\n",
       "    <tr>\n",
       "      <th>0</th>\n",
       "      <td>beginning</td>\n",
       "      <td>a</td>\n",
       "      <td>1</td>\n",
       "      <td>578</td>\n",
       "      <td>0.318339</td>\n",
       "    </tr>\n",
       "    <tr>\n",
       "      <th>2</th>\n",
       "      <td>beginning</td>\n",
       "      <td>c</td>\n",
       "      <td>1</td>\n",
       "      <td>548</td>\n",
       "      <td>0.253650</td>\n",
       "    </tr>\n",
       "    <tr>\n",
       "      <th>100</th>\n",
       "      <td>end</td>\n",
       "      <td>ie</td>\n",
       "      <td>2</td>\n",
       "      <td>499</td>\n",
       "      <td>0.270541</td>\n",
       "    </tr>\n",
       "    <tr>\n",
       "      <th>18</th>\n",
       "      <td>beginning</td>\n",
       "      <td>s</td>\n",
       "      <td>1</td>\n",
       "      <td>488</td>\n",
       "      <td>0.440574</td>\n",
       "    </tr>\n",
       "    <tr>\n",
       "      <th>3</th>\n",
       "      <td>beginning</td>\n",
       "      <td>d</td>\n",
       "      <td>1</td>\n",
       "      <td>398</td>\n",
       "      <td>0.316583</td>\n",
       "    </tr>\n",
       "    <tr>\n",
       "      <th>11</th>\n",
       "      <td>beginning</td>\n",
       "      <td>l</td>\n",
       "      <td>1</td>\n",
       "      <td>398</td>\n",
       "      <td>0.253769</td>\n",
       "    </tr>\n",
       "    <tr>\n",
       "      <th>17</th>\n",
       "      <td>beginning</td>\n",
       "      <td>r</td>\n",
       "      <td>1</td>\n",
       "      <td>392</td>\n",
       "      <td>0.448980</td>\n",
       "    </tr>\n",
       "    <tr>\n",
       "      <th>148</th>\n",
       "      <td>end</td>\n",
       "      <td>na</td>\n",
       "      <td>2</td>\n",
       "      <td>386</td>\n",
       "      <td>0.005181</td>\n",
       "    </tr>\n",
       "    <tr>\n",
       "      <th>9</th>\n",
       "      <td>beginning</td>\n",
       "      <td>j</td>\n",
       "      <td>1</td>\n",
       "      <td>378</td>\n",
       "      <td>0.325397</td>\n",
       "    </tr>\n",
       "    <tr>\n",
       "      <th>1</th>\n",
       "      <td>beginning</td>\n",
       "      <td>b</td>\n",
       "      <td>1</td>\n",
       "      <td>361</td>\n",
       "      <td>0.412742</td>\n",
       "    </tr>\n",
       "    <tr>\n",
       "      <th>151</th>\n",
       "      <td>end</td>\n",
       "      <td>ne</td>\n",
       "      <td>2</td>\n",
       "      <td>346</td>\n",
       "      <td>0.130058</td>\n",
       "    </tr>\n",
       "    <tr>\n",
       "      <th>19</th>\n",
       "      <td>beginning</td>\n",
       "      <td>t</td>\n",
       "      <td>1</td>\n",
       "      <td>340</td>\n",
       "      <td>0.491176</td>\n",
       "    </tr>\n",
       "    <tr>\n",
       "      <th>12</th>\n",
       "      <td>end</td>\n",
       "      <td>l</td>\n",
       "      <td>1</td>\n",
       "      <td>324</td>\n",
       "      <td>0.509259</td>\n",
       "    </tr>\n",
       "    <tr>\n",
       "      <th>6</th>\n",
       "      <td>beginning</td>\n",
       "      <td>g</td>\n",
       "      <td>1</td>\n",
       "      <td>323</td>\n",
       "      <td>0.408669</td>\n",
       "    </tr>\n",
       "    <tr>\n",
       "      <th>4</th>\n",
       "      <td>beginning</td>\n",
       "      <td>e</td>\n",
       "      <td>1</td>\n",
       "      <td>321</td>\n",
       "      <td>0.314642</td>\n",
       "    </tr>\n",
       "  </tbody>\n",
       "</table>\n",
       "</div>"
      ],
      "text/plain": [
       "      location string length count  male_pct\n",
       "5          end      e      1  1656  0.246981\n",
       "1          end      a      1  1566  0.016603\n",
       "14         end      n      1   742  0.551213\n",
       "24         end      y      1   692  0.416185\n",
       "12   beginning      m      1   602  0.299003\n",
       "0    beginning      a      1   578  0.318339\n",
       "2    beginning      c      1   548  0.253650\n",
       "100        end     ie      2   499  0.270541\n",
       "18   beginning      s      1   488  0.440574\n",
       "3    beginning      d      1   398  0.316583\n",
       "11   beginning      l      1   398  0.253769\n",
       "17   beginning      r      1   392  0.448980\n",
       "148        end     na      2   386  0.005181\n",
       "9    beginning      j      1   378  0.325397\n",
       "1    beginning      b      1   361  0.412742\n",
       "151        end     ne      2   346  0.130058\n",
       "19   beginning      t      1   340  0.491176\n",
       "12         end      l      1   324  0.509259\n",
       "6    beginning      g      1   323  0.408669\n",
       "4    beginning      e      1   321  0.314642"
      ]
     },
     "execution_count": 5,
     "metadata": {},
     "output_type": "execute_result"
    }
   ],
   "source": [
    "feature_df = pd.DataFrame(columns=['location','string','length','count','male_pct'])\n",
    "\n",
    "for i in range(1, 6):\n",
    "    for j in [-1,1]:\n",
    "        #pull only names where length at least i\n",
    "        df_i = train[train['name'].str.len()>=i]\n",
    "        \n",
    "        n = i*j\n",
    "        if n > 0:\n",
    "            temp_df = pd.DataFrame(df_i['name'].str[:n])\n",
    "        else:\n",
    "            temp_df = pd.DataFrame(df_i['name'].str[n:])\n",
    "        temp_df['male'] = df_i['male']\n",
    "        temp_df = temp_df.groupby('name', as_index=False).agg(['count','mean'])\n",
    "        \n",
    "        #Flatten and rename df\n",
    "        temp_df.columns = list(map('_'.join, temp_df.columns.values))\n",
    "        temp_df.reset_index(inplace=True)\n",
    "        temp_df.columns =['string','count','male_pct']\n",
    "\n",
    "        #Set the rest of the features\n",
    "        if n > 0:\n",
    "            temp_df['location'] = 'beginning'\n",
    "        else:\n",
    "            temp_df['location'] = 'end'\n",
    "        temp_df['length'] = i\n",
    "        feature_df = feature_df.append(temp_df)\n",
    "\n",
    "feature_df.sort_values('count', ascending=False).head(20)\n"
   ]
  },
  {
   "cell_type": "code",
   "execution_count": 6,
   "metadata": {
    "pycharm": {
     "name": "#%%\n"
    }
   },
   "outputs": [
    {
     "data": {
      "text/html": [
       "<div>\n",
       "<style scoped>\n",
       "    .dataframe tbody tr th:only-of-type {\n",
       "        vertical-align: middle;\n",
       "    }\n",
       "\n",
       "    .dataframe tbody tr th {\n",
       "        vertical-align: top;\n",
       "    }\n",
       "\n",
       "    .dataframe thead th {\n",
       "        text-align: right;\n",
       "    }\n",
       "</style>\n",
       "<table border=\"1\" class=\"dataframe\">\n",
       "  <thead>\n",
       "    <tr style=\"text-align: right;\">\n",
       "      <th></th>\n",
       "      <th>location</th>\n",
       "      <th>string</th>\n",
       "      <th>length</th>\n",
       "      <th>count</th>\n",
       "      <th>male_pct</th>\n",
       "    </tr>\n",
       "  </thead>\n",
       "  <tbody>\n",
       "    <tr>\n",
       "      <th>493</th>\n",
       "      <td>end</td>\n",
       "      <td>ina</td>\n",
       "      <td>3</td>\n",
       "      <td>157</td>\n",
       "      <td>0.0</td>\n",
       "    </tr>\n",
       "    <tr>\n",
       "      <th>38</th>\n",
       "      <td>end</td>\n",
       "      <td>da</td>\n",
       "      <td>2</td>\n",
       "      <td>113</td>\n",
       "      <td>0.0</td>\n",
       "    </tr>\n",
       "    <tr>\n",
       "      <th>1151</th>\n",
       "      <td>end</td>\n",
       "      <td>tte</td>\n",
       "      <td>3</td>\n",
       "      <td>88</td>\n",
       "      <td>0.0</td>\n",
       "    </tr>\n",
       "    <tr>\n",
       "      <th>905</th>\n",
       "      <td>end</td>\n",
       "      <td>ette</td>\n",
       "      <td>4</td>\n",
       "      <td>84</td>\n",
       "      <td>0.0</td>\n",
       "    </tr>\n",
       "    <tr>\n",
       "      <th>208</th>\n",
       "      <td>end</td>\n",
       "      <td>sa</td>\n",
       "      <td>2</td>\n",
       "      <td>81</td>\n",
       "      <td>0.0</td>\n",
       "    </tr>\n",
       "    <tr>\n",
       "      <th>642</th>\n",
       "      <td>end</td>\n",
       "      <td>lla</td>\n",
       "      <td>3</td>\n",
       "      <td>78</td>\n",
       "      <td>0.0</td>\n",
       "    </tr>\n",
       "    <tr>\n",
       "      <th>751</th>\n",
       "      <td>end</td>\n",
       "      <td>elle</td>\n",
       "      <td>4</td>\n",
       "      <td>69</td>\n",
       "      <td>0.0</td>\n",
       "    </tr>\n",
       "    <tr>\n",
       "      <th>774</th>\n",
       "      <td>end</td>\n",
       "      <td>nna</td>\n",
       "      <td>3</td>\n",
       "      <td>68</td>\n",
       "      <td>0.0</td>\n",
       "    </tr>\n",
       "    <tr>\n",
       "      <th>750</th>\n",
       "      <td>end</td>\n",
       "      <td>ella</td>\n",
       "      <td>4</td>\n",
       "      <td>60</td>\n",
       "      <td>0.0</td>\n",
       "    </tr>\n",
       "    <tr>\n",
       "      <th>625</th>\n",
       "      <td>end</td>\n",
       "      <td>lia</td>\n",
       "      <td>3</td>\n",
       "      <td>59</td>\n",
       "      <td>0.0</td>\n",
       "    </tr>\n",
       "  </tbody>\n",
       "</table>\n",
       "</div>"
      ],
      "text/plain": [
       "     location string length count  male_pct\n",
       "493       end    ina      3   157       0.0\n",
       "38        end     da      2   113       0.0\n",
       "1151      end    tte      3    88       0.0\n",
       "905       end   ette      4    84       0.0\n",
       "208       end     sa      2    81       0.0\n",
       "642       end    lla      3    78       0.0\n",
       "751       end   elle      4    69       0.0\n",
       "774       end    nna      3    68       0.0\n",
       "750       end   ella      4    60       0.0\n",
       "625       end    lia      3    59       0.0"
      ]
     },
     "execution_count": 6,
     "metadata": {},
     "output_type": "execute_result"
    }
   ],
   "source": [
    "filtered_df = feature_df[feature_df['count']>10]\n",
    "\n",
    "\n",
    "filtered_df.sort_values(['male_pct','count'],ascending = [True,False]).head(10)"
   ]
  },
  {
   "cell_type": "code",
   "execution_count": 7,
   "metadata": {},
   "outputs": [
    {
     "data": {
      "text/html": [
       "<div>\n",
       "<style scoped>\n",
       "    .dataframe tbody tr th:only-of-type {\n",
       "        vertical-align: middle;\n",
       "    }\n",
       "\n",
       "    .dataframe tbody tr th {\n",
       "        vertical-align: top;\n",
       "    }\n",
       "\n",
       "    .dataframe thead th {\n",
       "        text-align: right;\n",
       "    }\n",
       "</style>\n",
       "<table border=\"1\" class=\"dataframe\">\n",
       "  <thead>\n",
       "    <tr style=\"text-align: right;\">\n",
       "      <th></th>\n",
       "      <th>location</th>\n",
       "      <th>string</th>\n",
       "      <th>length</th>\n",
       "      <th>count</th>\n",
       "      <th>male_pct</th>\n",
       "    </tr>\n",
       "  </thead>\n",
       "  <tbody>\n",
       "    <tr>\n",
       "      <th>1140</th>\n",
       "      <td>end</td>\n",
       "      <td>ton</td>\n",
       "      <td>3</td>\n",
       "      <td>47</td>\n",
       "      <td>1.0</td>\n",
       "    </tr>\n",
       "    <tr>\n",
       "      <th>35</th>\n",
       "      <td>end</td>\n",
       "      <td>ck</td>\n",
       "      <td>2</td>\n",
       "      <td>39</td>\n",
       "      <td>1.0</td>\n",
       "    </tr>\n",
       "    <tr>\n",
       "      <th>453</th>\n",
       "      <td>end</td>\n",
       "      <td>ick</td>\n",
       "      <td>3</td>\n",
       "      <td>26</td>\n",
       "      <td>1.0</td>\n",
       "    </tr>\n",
       "    <tr>\n",
       "      <th>3</th>\n",
       "      <td>end</td>\n",
       "      <td>c</td>\n",
       "      <td>1</td>\n",
       "      <td>21</td>\n",
       "      <td>1.0</td>\n",
       "    </tr>\n",
       "    <tr>\n",
       "      <th>2308</th>\n",
       "      <td>end</td>\n",
       "      <td>rick</td>\n",
       "      <td>4</td>\n",
       "      <td>19</td>\n",
       "      <td>1.0</td>\n",
       "    </tr>\n",
       "    <tr>\n",
       "      <th>98</th>\n",
       "      <td>end</td>\n",
       "      <td>ic</td>\n",
       "      <td>2</td>\n",
       "      <td>15</td>\n",
       "      <td>1.0</td>\n",
       "    </tr>\n",
       "    <tr>\n",
       "      <th>162</th>\n",
       "      <td>end</td>\n",
       "      <td>od</td>\n",
       "      <td>2</td>\n",
       "      <td>15</td>\n",
       "      <td>1.0</td>\n",
       "    </tr>\n",
       "    <tr>\n",
       "      <th>221</th>\n",
       "      <td>end</td>\n",
       "      <td>to</td>\n",
       "      <td>2</td>\n",
       "      <td>14</td>\n",
       "      <td>1.0</td>\n",
       "    </tr>\n",
       "    <tr>\n",
       "      <th>212</th>\n",
       "      <td>beginning</td>\n",
       "      <td>wo</td>\n",
       "      <td>2</td>\n",
       "      <td>14</td>\n",
       "      <td>1.0</td>\n",
       "    </tr>\n",
       "    <tr>\n",
       "      <th>76</th>\n",
       "      <td>end</td>\n",
       "      <td>art</td>\n",
       "      <td>3</td>\n",
       "      <td>14</td>\n",
       "      <td>1.0</td>\n",
       "    </tr>\n",
       "  </tbody>\n",
       "</table>\n",
       "</div>"
      ],
      "text/plain": [
       "       location string length count  male_pct\n",
       "1140        end    ton      3    47       1.0\n",
       "35          end     ck      2    39       1.0\n",
       "453         end    ick      3    26       1.0\n",
       "3           end      c      1    21       1.0\n",
       "2308        end   rick      4    19       1.0\n",
       "98          end     ic      2    15       1.0\n",
       "162         end     od      2    15       1.0\n",
       "221         end     to      2    14       1.0\n",
       "212   beginning     wo      2    14       1.0\n",
       "76          end    art      3    14       1.0"
      ]
     },
     "execution_count": 7,
     "metadata": {},
     "output_type": "execute_result"
    }
   ],
   "source": [
    "filtered_df.sort_values(['male_pct','count'],ascending = [False,False]).head(10)"
   ]
  },
  {
   "cell_type": "markdown",
   "metadata": {},
   "source": [
    "I'll create a function to pull all of the features for a given name. It's important that I'm using ONLY the training set to give me the numbers involved."
   ]
  },
  {
   "cell_type": "code",
   "execution_count": 8,
   "metadata": {
    "pycharm": {
     "name": "#%%   \n"
    }
   },
   "outputs": [],
   "source": [
    "def get_features(name, n, feature_df):\n",
    "    if len(name) <  abs(n):\n",
    "        male_pct = np.NaN\n",
    "        count = np.NaN\n",
    "    else:\n",
    "        if n > 0:\n",
    "            location = 'beginning'\n",
    "            string = name[:n]\n",
    "        else:\n",
    "            location = 'end'\n",
    "            string = name[n:]\n",
    "            \n",
    "        temp_df = feature_df[(feature_df['location']==location) & \n",
    "                              (feature_df['length']==abs(n)) &\n",
    "                              (feature_df['string']==string)                          \n",
    "            ]\n",
    "        \n",
    "        if len(temp_df) > 0:\n",
    "            male_pct = temp_df.loc[temp_df.index[0], 'male_pct']\n",
    "            count = temp_df.loc[temp_df.index[0], 'count']\n",
    "        else:\n",
    "            male_pct = np.NaN\n",
    "            count = 0\n",
    "    return([count, male_pct])"
   ]
  },
  {
   "cell_type": "markdown",
   "metadata": {
    "pycharm": {
     "name": "#%% md\n"
    }
   },
   "source": [
    "Let's check that the function works:"
   ]
  },
  {
   "cell_type": "code",
   "execution_count": 9,
   "metadata": {
    "pycharm": {
     "name": "#%%\n"
    }
   },
   "outputs": [
    {
     "data": {
      "text/plain": [
       "[45, 0.0]"
      ]
     },
     "execution_count": 9,
     "metadata": {},
     "output_type": "execute_result"
    }
   ],
   "source": [
    "get_features('rosalinda', -3, feature_df)"
   ]
  },
  {
   "cell_type": "code",
   "execution_count": 10,
   "metadata": {
    "pycharm": {
     "name": "#%%\n"
    }
   },
   "outputs": [
    {
     "name": "stdout",
     "output_type": "stream",
     "text": [
      "['corenda', 'minda', 'wenda', 'vanda', 'melisenda', 'ramonda', 'kalinda', 'marylinda', 'linda', 'yolanda', 'fernanda', 'rhonda', 'lorinda', 'hinda', 'lynda', 'ferdinanda', 'zonda', 'celinda', 'selinda', 'glenda', 'manda', 'ronda', 'eolanda', 'shanda', 'clarinda', 'rosmunda', 'romonda', 'rosalinda', 'jacinda', 'secunda', 'belinda', 'malynda', 'melinda', 'lucinda', 'arlinda', 'delinda', 'randa', 'hynda', 'cinda', 'myranda', 'miranda', 'chanda', 'amanda', 'glynda', 'yalonda']\n",
      "Number of names that end with nda:  45\n",
      "Number of males that end with nda:  0\n"
     ]
    }
   ],
   "source": [
    "temp_df = train[train['name'].str[-3:]=='nda']\n",
    "print(list(temp_df['name']))\n",
    "print('Number of names that end with nda: ',str(len(temp_df)))\n",
    "print('Number of males that end with nda: ',str(sum(temp_df['male'])))"
   ]
  },
  {
   "cell_type": "code",
   "execution_count": 11,
   "metadata": {
    "pycharm": {
     "name": "#%%\n"
    }
   },
   "outputs": [
    {
     "data": {
      "text/html": [
       "<div>\n",
       "<style scoped>\n",
       "    .dataframe tbody tr th:only-of-type {\n",
       "        vertical-align: middle;\n",
       "    }\n",
       "\n",
       "    .dataframe tbody tr th {\n",
       "        vertical-align: top;\n",
       "    }\n",
       "\n",
       "    .dataframe thead th {\n",
       "        text-align: right;\n",
       "    }\n",
       "</style>\n",
       "<table border=\"1\" class=\"dataframe\">\n",
       "  <thead>\n",
       "    <tr style=\"text-align: right;\">\n",
       "      <th></th>\n",
       "      <th>index</th>\n",
       "      <th>name</th>\n",
       "      <th>male</th>\n",
       "      <th>end_1_count</th>\n",
       "      <th>end_1_male_pct</th>\n",
       "      <th>beg_1_count</th>\n",
       "      <th>beg_1_male_pct</th>\n",
       "      <th>end_2_count</th>\n",
       "      <th>end_2_male_pct</th>\n",
       "      <th>beg_2_count</th>\n",
       "      <th>...</th>\n",
       "      <th>beg_3_count</th>\n",
       "      <th>beg_3_male_pct</th>\n",
       "      <th>end_4_count</th>\n",
       "      <th>end_4_male_pct</th>\n",
       "      <th>beg_4_count</th>\n",
       "      <th>beg_4_male_pct</th>\n",
       "      <th>end_5_count</th>\n",
       "      <th>end_5_male_pct</th>\n",
       "      <th>beg_5_count</th>\n",
       "      <th>beg_5_male_pct</th>\n",
       "    </tr>\n",
       "  </thead>\n",
       "  <tbody>\n",
       "    <tr>\n",
       "      <th>0</th>\n",
       "      <td>0</td>\n",
       "      <td>aamir</td>\n",
       "      <td>1</td>\n",
       "      <td>210</td>\n",
       "      <td>0.804762</td>\n",
       "      <td>578</td>\n",
       "      <td>0.318339</td>\n",
       "      <td>13</td>\n",
       "      <td>0.692308</td>\n",
       "      <td>1</td>\n",
       "      <td>...</td>\n",
       "      <td>1.0</td>\n",
       "      <td>1.0</td>\n",
       "      <td>2.0</td>\n",
       "      <td>1.000000</td>\n",
       "      <td>1.0</td>\n",
       "      <td>1.000000</td>\n",
       "      <td>1.0</td>\n",
       "      <td>1.000000</td>\n",
       "      <td>1.0</td>\n",
       "      <td>1.0</td>\n",
       "    </tr>\n",
       "    <tr>\n",
       "      <th>1</th>\n",
       "      <td>1</td>\n",
       "      <td>aaron</td>\n",
       "      <td>1</td>\n",
       "      <td>742</td>\n",
       "      <td>0.551213</td>\n",
       "      <td>578</td>\n",
       "      <td>0.318339</td>\n",
       "      <td>156</td>\n",
       "      <td>0.858974</td>\n",
       "      <td>1</td>\n",
       "      <td>...</td>\n",
       "      <td>0.0</td>\n",
       "      <td>NaN</td>\n",
       "      <td>4.0</td>\n",
       "      <td>0.750000</td>\n",
       "      <td>0.0</td>\n",
       "      <td>NaN</td>\n",
       "      <td>0.0</td>\n",
       "      <td>NaN</td>\n",
       "      <td>0.0</td>\n",
       "      <td>NaN</td>\n",
       "    </tr>\n",
       "    <tr>\n",
       "      <th>2</th>\n",
       "      <td>2</td>\n",
       "      <td>abbey</td>\n",
       "      <td>1</td>\n",
       "      <td>692</td>\n",
       "      <td>0.416185</td>\n",
       "      <td>578</td>\n",
       "      <td>0.318339</td>\n",
       "      <td>164</td>\n",
       "      <td>0.463415</td>\n",
       "      <td>24</td>\n",
       "      <td>...</td>\n",
       "      <td>10.0</td>\n",
       "      <td>0.5</td>\n",
       "      <td>3.0</td>\n",
       "      <td>0.333333</td>\n",
       "      <td>3.0</td>\n",
       "      <td>0.333333</td>\n",
       "      <td>3.0</td>\n",
       "      <td>0.333333</td>\n",
       "      <td>2.0</td>\n",
       "      <td>0.5</td>\n",
       "    </tr>\n",
       "    <tr>\n",
       "      <th>3</th>\n",
       "      <td>3</td>\n",
       "      <td>abbie</td>\n",
       "      <td>1</td>\n",
       "      <td>1656</td>\n",
       "      <td>0.246981</td>\n",
       "      <td>578</td>\n",
       "      <td>0.318339</td>\n",
       "      <td>499</td>\n",
       "      <td>0.270541</td>\n",
       "      <td>24</td>\n",
       "      <td>...</td>\n",
       "      <td>10.0</td>\n",
       "      <td>0.5</td>\n",
       "      <td>14.0</td>\n",
       "      <td>0.285714</td>\n",
       "      <td>3.0</td>\n",
       "      <td>0.333333</td>\n",
       "      <td>4.0</td>\n",
       "      <td>0.500000</td>\n",
       "      <td>2.0</td>\n",
       "      <td>0.5</td>\n",
       "    </tr>\n",
       "    <tr>\n",
       "      <th>4</th>\n",
       "      <td>4</td>\n",
       "      <td>abbot</td>\n",
       "      <td>1</td>\n",
       "      <td>202</td>\n",
       "      <td>0.693069</td>\n",
       "      <td>578</td>\n",
       "      <td>0.318339</td>\n",
       "      <td>13</td>\n",
       "      <td>0.615385</td>\n",
       "      <td>24</td>\n",
       "      <td>...</td>\n",
       "      <td>10.0</td>\n",
       "      <td>0.5</td>\n",
       "      <td>1.0</td>\n",
       "      <td>1.000000</td>\n",
       "      <td>2.0</td>\n",
       "      <td>1.000000</td>\n",
       "      <td>1.0</td>\n",
       "      <td>1.000000</td>\n",
       "      <td>2.0</td>\n",
       "      <td>1.0</td>\n",
       "    </tr>\n",
       "  </tbody>\n",
       "</table>\n",
       "<p>5 rows × 23 columns</p>\n",
       "</div>"
      ],
      "text/plain": [
       "   index   name  male  end_1_count  end_1_male_pct  beg_1_count  \\\n",
       "0      0  aamir     1          210        0.804762          578   \n",
       "1      1  aaron     1          742        0.551213          578   \n",
       "2      2  abbey     1          692        0.416185          578   \n",
       "3      3  abbie     1         1656        0.246981          578   \n",
       "4      4  abbot     1          202        0.693069          578   \n",
       "\n",
       "   beg_1_male_pct  end_2_count  end_2_male_pct  beg_2_count  ...  beg_3_count  \\\n",
       "0        0.318339           13        0.692308            1  ...          1.0   \n",
       "1        0.318339          156        0.858974            1  ...          0.0   \n",
       "2        0.318339          164        0.463415           24  ...         10.0   \n",
       "3        0.318339          499        0.270541           24  ...         10.0   \n",
       "4        0.318339           13        0.615385           24  ...         10.0   \n",
       "\n",
       "   beg_3_male_pct  end_4_count  end_4_male_pct  beg_4_count  beg_4_male_pct  \\\n",
       "0             1.0          2.0        1.000000          1.0        1.000000   \n",
       "1             NaN          4.0        0.750000          0.0             NaN   \n",
       "2             0.5          3.0        0.333333          3.0        0.333333   \n",
       "3             0.5         14.0        0.285714          3.0        0.333333   \n",
       "4             0.5          1.0        1.000000          2.0        1.000000   \n",
       "\n",
       "   end_5_count  end_5_male_pct  beg_5_count  beg_5_male_pct  \n",
       "0          1.0        1.000000          1.0             1.0  \n",
       "1          0.0             NaN          0.0             NaN  \n",
       "2          3.0        0.333333          2.0             0.5  \n",
       "3          4.0        0.500000          2.0             0.5  \n",
       "4          1.0        1.000000          2.0             1.0  \n",
       "\n",
       "[5 rows x 23 columns]"
      ]
     },
     "execution_count": 11,
     "metadata": {},
     "output_type": "execute_result"
    }
   ],
   "source": [
    "for i in range(1, 6):\n",
    "    for j in [-1,1]:\n",
    "        n = i*j\n",
    "        if n > 0:\n",
    "            feature_name = 'beg_'\n",
    "        else:\n",
    "            feature_name = 'end_'\n",
    "        feature_list = df.apply(lambda x: get_features(x['name'], n, feature_df), axis=1)\n",
    "        counts, males = map(list, zip(*feature_list))\n",
    "        df[feature_name + str(i) + '_count'] = counts\n",
    "        df[feature_name + str(i) + '_male_pct'] = males\n",
    "\n",
    "df.head()"
   ]
  },
  {
   "cell_type": "markdown",
   "metadata": {},
   "source": [
    "I will need to impute values for all the NAs. Because the NAs are not random, I don't just want to impute the means.  What I'll do is add binary variables to tell me if the value is NA or not, then I'll impute the mean for the male_pct, and impute 0 for the \"count\" variable."
   ]
  },
  {
   "cell_type": "code",
   "execution_count": 12,
   "metadata": {
    "pycharm": {
     "name": "#%%\n"
    }
   },
   "outputs": [],
   "source": [
    "df['length'] = df['name'].str.len()\n",
    "df['end_1_na'] = 0\n",
    "df['beg_1_na'] = 0\n",
    "df['end_2_na'] = 0\n",
    "df['beg_2_na'] = 0\n",
    "df['end_3_na'] = 0\n",
    "df['beg_3_na'] = 0\n",
    "df['end_4_na'] = 0\n",
    "df['beg_4_na'] = 0\n",
    "df['end_5_na'] = 0\n",
    "df['beg_5_na'] = 0\n",
    "df.loc[df['end_1_male_pct'].isna(),'end_1_na'] = 1\n",
    "df.loc[df['beg_1_male_pct'].isna(),'beg_1_na'] = 1\n",
    "df.loc[df['end_2_male_pct'].isna(),'end_2_na'] = 1\n",
    "df.loc[df['beg_2_male_pct'].isna(),'beg_2_na'] = 1\n",
    "df.loc[df['end_3_male_pct'].isna(),'end_3_na'] = 1\n",
    "df.loc[df['beg_3_male_pct'].isna(),'beg_3_na'] = 1\n",
    "df.loc[df['end_4_male_pct'].isna(),'end_4_na'] = 1\n",
    "df.loc[df['beg_4_male_pct'].isna(),'beg_4_na'] = 1\n",
    "df.loc[df['end_5_male_pct'].isna(),'end_5_na'] = 1\n",
    "df.loc[df['beg_5_male_pct'].isna(),'beg_5_na'] = 1"
   ]
  },
  {
   "cell_type": "markdown",
   "metadata": {
    "pycharm": {
     "name": "#%% md\n"
    }
   },
   "source": [
    "Now that we have our binary variables to indicate na, we can impute the mean male pct (0.37) for the percents, and 0 for the counts."
   ]
  },
  {
   "cell_type": "code",
   "execution_count": 13,
   "metadata": {
    "pycharm": {
     "name": "#%%\n"
    }
   },
   "outputs": [
    {
     "data": {
      "text/html": [
       "<div>\n",
       "<style scoped>\n",
       "    .dataframe tbody tr th:only-of-type {\n",
       "        vertical-align: middle;\n",
       "    }\n",
       "\n",
       "    .dataframe tbody tr th {\n",
       "        vertical-align: top;\n",
       "    }\n",
       "\n",
       "    .dataframe thead th {\n",
       "        text-align: right;\n",
       "    }\n",
       "</style>\n",
       "<table border=\"1\" class=\"dataframe\">\n",
       "  <thead>\n",
       "    <tr style=\"text-align: right;\">\n",
       "      <th></th>\n",
       "      <th>index</th>\n",
       "      <th>name</th>\n",
       "      <th>male</th>\n",
       "      <th>end_1_count</th>\n",
       "      <th>end_1_male_pct</th>\n",
       "      <th>beg_1_count</th>\n",
       "      <th>beg_1_male_pct</th>\n",
       "      <th>end_2_count</th>\n",
       "      <th>end_2_male_pct</th>\n",
       "      <th>beg_2_count</th>\n",
       "      <th>...</th>\n",
       "      <th>end_1_na</th>\n",
       "      <th>beg_1_na</th>\n",
       "      <th>end_2_na</th>\n",
       "      <th>beg_2_na</th>\n",
       "      <th>end_3_na</th>\n",
       "      <th>beg_3_na</th>\n",
       "      <th>end_4_na</th>\n",
       "      <th>beg_4_na</th>\n",
       "      <th>end_5_na</th>\n",
       "      <th>beg_5_na</th>\n",
       "    </tr>\n",
       "  </thead>\n",
       "  <tbody>\n",
       "    <tr>\n",
       "      <th>5648</th>\n",
       "      <td>2705</td>\n",
       "      <td>kay</td>\n",
       "      <td>0</td>\n",
       "      <td>692</td>\n",
       "      <td>0.416185</td>\n",
       "      <td>301</td>\n",
       "      <td>0.205980</td>\n",
       "      <td>29</td>\n",
       "      <td>0.586207</td>\n",
       "      <td>134</td>\n",
       "      <td>...</td>\n",
       "      <td>0</td>\n",
       "      <td>0</td>\n",
       "      <td>0</td>\n",
       "      <td>0</td>\n",
       "      <td>0</td>\n",
       "      <td>0</td>\n",
       "      <td>1</td>\n",
       "      <td>1</td>\n",
       "      <td>1</td>\n",
       "      <td>1</td>\n",
       "    </tr>\n",
       "    <tr>\n",
       "      <th>5275</th>\n",
       "      <td>2332</td>\n",
       "      <td>janessa</td>\n",
       "      <td>0</td>\n",
       "      <td>1566</td>\n",
       "      <td>0.016603</td>\n",
       "      <td>378</td>\n",
       "      <td>0.325397</td>\n",
       "      <td>81</td>\n",
       "      <td>0.000000</td>\n",
       "      <td>100</td>\n",
       "      <td>...</td>\n",
       "      <td>0</td>\n",
       "      <td>0</td>\n",
       "      <td>0</td>\n",
       "      <td>0</td>\n",
       "      <td>0</td>\n",
       "      <td>0</td>\n",
       "      <td>0</td>\n",
       "      <td>0</td>\n",
       "      <td>0</td>\n",
       "      <td>1</td>\n",
       "    </tr>\n",
       "    <tr>\n",
       "      <th>1771</th>\n",
       "      <td>1771</td>\n",
       "      <td>mort</td>\n",
       "      <td>1</td>\n",
       "      <td>202</td>\n",
       "      <td>0.693069</td>\n",
       "      <td>602</td>\n",
       "      <td>0.299003</td>\n",
       "      <td>48</td>\n",
       "      <td>0.958333</td>\n",
       "      <td>60</td>\n",
       "      <td>...</td>\n",
       "      <td>0</td>\n",
       "      <td>0</td>\n",
       "      <td>0</td>\n",
       "      <td>0</td>\n",
       "      <td>0</td>\n",
       "      <td>0</td>\n",
       "      <td>0</td>\n",
       "      <td>0</td>\n",
       "      <td>1</td>\n",
       "      <td>1</td>\n",
       "    </tr>\n",
       "    <tr>\n",
       "      <th>5284</th>\n",
       "      <td>2341</td>\n",
       "      <td>janie</td>\n",
       "      <td>0</td>\n",
       "      <td>1656</td>\n",
       "      <td>0.246981</td>\n",
       "      <td>378</td>\n",
       "      <td>0.325397</td>\n",
       "      <td>499</td>\n",
       "      <td>0.270541</td>\n",
       "      <td>100</td>\n",
       "      <td>...</td>\n",
       "      <td>0</td>\n",
       "      <td>0</td>\n",
       "      <td>0</td>\n",
       "      <td>0</td>\n",
       "      <td>0</td>\n",
       "      <td>0</td>\n",
       "      <td>0</td>\n",
       "      <td>0</td>\n",
       "      <td>1</td>\n",
       "      <td>1</td>\n",
       "    </tr>\n",
       "    <tr>\n",
       "      <th>5295</th>\n",
       "      <td>2352</td>\n",
       "      <td>jany</td>\n",
       "      <td>0</td>\n",
       "      <td>692</td>\n",
       "      <td>0.416185</td>\n",
       "      <td>378</td>\n",
       "      <td>0.325397</td>\n",
       "      <td>61</td>\n",
       "      <td>0.344262</td>\n",
       "      <td>100</td>\n",
       "      <td>...</td>\n",
       "      <td>0</td>\n",
       "      <td>0</td>\n",
       "      <td>0</td>\n",
       "      <td>0</td>\n",
       "      <td>0</td>\n",
       "      <td>0</td>\n",
       "      <td>0</td>\n",
       "      <td>0</td>\n",
       "      <td>1</td>\n",
       "      <td>1</td>\n",
       "    </tr>\n",
       "  </tbody>\n",
       "</table>\n",
       "<p>5 rows × 34 columns</p>\n",
       "</div>"
      ],
      "text/plain": [
       "      index     name  male  end_1_count  end_1_male_pct  beg_1_count  \\\n",
       "5648   2705      kay     0          692        0.416185          301   \n",
       "5275   2332  janessa     0         1566        0.016603          378   \n",
       "1771   1771     mort     1          202        0.693069          602   \n",
       "5284   2341    janie     0         1656        0.246981          378   \n",
       "5295   2352     jany     0          692        0.416185          378   \n",
       "\n",
       "      beg_1_male_pct  end_2_count  end_2_male_pct  beg_2_count  ...  end_1_na  \\\n",
       "5648        0.205980           29        0.586207          134  ...         0   \n",
       "5275        0.325397           81        0.000000          100  ...         0   \n",
       "1771        0.299003           48        0.958333           60  ...         0   \n",
       "5284        0.325397          499        0.270541          100  ...         0   \n",
       "5295        0.325397           61        0.344262          100  ...         0   \n",
       "\n",
       "      beg_1_na  end_2_na  beg_2_na  end_3_na  beg_3_na  end_4_na  beg_4_na  \\\n",
       "5648         0         0         0         0         0         1         1   \n",
       "5275         0         0         0         0         0         0         0   \n",
       "1771         0         0         0         0         0         0         0   \n",
       "5284         0         0         0         0         0         0         0   \n",
       "5295         0         0         0         0         0         0         0   \n",
       "\n",
       "      end_5_na  beg_5_na  \n",
       "5648         1         1  \n",
       "5275         0         1  \n",
       "1771         1         1  \n",
       "5284         1         1  \n",
       "5295         1         1  \n",
       "\n",
       "[5 rows x 34 columns]"
      ]
     },
     "execution_count": 13,
     "metadata": {},
     "output_type": "execute_result"
    }
   ],
   "source": [
    "count_columns = [c for c in df.columns if '_count' in c]\n",
    "male_pct_columns = [c for c in df.columns if '_male_pct' in c]\n",
    "na_columns = [c for c in df.columns if '_na' in c]\n",
    "X_columns = count_columns.copy()\n",
    "X_columns.extend(male_pct_columns)\n",
    "X_columns.extend(na_columns)\n",
    "X_columns.append('length')\n",
    "\n",
    "df[count_columns] = df[count_columns].fillna(0)\n",
    "df[male_pct_columns] = df[male_pct_columns].fillna(0.37)\n",
    "df.sort_values('beg_5_count').head()"
   ]
  },
  {
   "cell_type": "markdown",
   "metadata": {
    "pycharm": {
     "name": "#%% md\n"
    }
   },
   "source": [
    "Let's pull all the new features into all of our datasets.\n"
   ]
  },
  {
   "cell_type": "code",
   "execution_count": 14,
   "metadata": {
    "pycharm": {
     "name": "#%%\n"
    }
   },
   "outputs": [
    {
     "name": "stdout",
     "output_type": "stream",
     "text": [
      "train mean:0.37, devtest mean:0.352, test mean:0.39\n"
     ]
    }
   ],
   "source": [
    "train = df.iloc[train_indexes]\n",
    "test =  df.iloc[test_indexes]\n",
    "devtest =  df.iloc[devtest_indexes]\n",
    "\n",
    "y_train = train['male']\n",
    "X_train = train[X_columns]\n",
    "\n",
    "y_test = test['male']\n",
    "X_test = test[X_columns]\n",
    "\n",
    "y_devtest = devtest['male']\n",
    "X_devtest = devtest[X_columns]\n",
    "print ('train mean:' + str(round(y_train.mean(),3)) + ', devtest mean:' + str(round(y_devtest.mean(),3)) + ', test mean:' + str(round(y_test.mean(),3)))"
   ]
  },
  {
   "cell_type": "code",
   "execution_count": 15,
   "metadata": {
    "pycharm": {
     "name": "#%%\n"
    }
   },
   "outputs": [
    {
     "name": "stdout",
     "output_type": "stream",
     "text": [
      "Training Accuracy: 95.6%\n",
      "Dev-Test Accuracy: 80.6%\n",
      "289 accurately predicted males, 114 accurately predicted females\n",
      "35 false-males, 62 false-females\n"
     ]
    }
   ],
   "source": [
    "log = LogisticRegression(penalty='l1', solver='liblinear')\n",
    "log.fit(X_train, y_train)\n",
    "print (\"Training Accuracy: \" + str(round(100*log.score(X_train,y_train),1)) + '%')\n",
    "print(\"Dev-Test Accuracy: \" + str(round(100*log.score(X_devtest,y_devtest),1)) + '%')\n",
    "cm = confusion_matrix(y_devtest, log.predict(X_devtest))\n",
    "print(str(cm[0,0]) + \" accurately predicted males, \" + str(cm[1,1]) + \" accurately predicted females\")\n",
    "print(str(cm[0,1]) + \" false-males, \" + str(cm[1,0]) + \" false-females\")"
   ]
  },
  {
   "cell_type": "markdown",
   "metadata": {
    "pycharm": {
     "name": "#%% md\n"
    }
   },
   "source": [
    "Here are the male names in which my model predicted female:"
   ]
  },
  {
   "cell_type": "code",
   "execution_count": 16,
   "metadata": {
    "pycharm": {
     "name": "#%%\n"
    },
    "scrolled": true
   },
   "outputs": [
    {
     "name": "stdout",
     "output_type": "stream",
     "text": [
      "['del', 'rutledge', 'bernie', 'mickie', 'hillary', 'wallis', 'rory', 'randal', 'kelly', 'lex', 'demosthenis', 'petey', 'brice', 'alan', 'dyson', 'christy', 'christofer', 'hilliard', 'albrecht', 'blair', 'mayor', 'guido', 'horst', 'tyson', 'isadore', 'allah', 'kareem', 'klee', 'meredeth', 'zacharia', 'ossie', 'carroll', 'eddy', 'luigi', 'maximilian', 'gale', 'tiler', 'dean', 'shelby', 'tobe', 'chanderjit', 'marlow', 'pooh', 'joe', 'patty', 'giuseppe', 'franky', 'ted', 'ehud', 'gretchen', 'tommy', 'odin', 'mugsy', 'roni', 'axel', 'brooks', 'phil', 'jeb', 'gabriele', 'leslie', 'rube', 'alic']\n"
     ]
    }
   ],
   "source": [
    "print(list(devtest.loc[(y_devtest==1) & (log.predict(X_devtest)==0), 'name']))"
   ]
  },
  {
   "cell_type": "markdown",
   "metadata": {},
   "source": [
    "Here are the female names in which my model predicted male:"
   ]
  },
  {
   "cell_type": "code",
   "execution_count": 17,
   "metadata": {
    "pycharm": {
     "name": "#%%\n"
    }
   },
   "outputs": [
    {
     "name": "stdout",
     "output_type": "stream",
     "text": [
      "['felipa', 'clemmy', 'brook', 'morlee', 'france', 'gillan', 'izzi', 'corny', 'saundra', 'jody', 'marnie', 'wilma', 'winifred', 'maddie', 'pavla', 'shayne', 'bill', 'grace', 'donnie', 'ricca', 'demetria', 'christian', 'karon', 'nan', 'sher', 'rhiamon', 'kerrin', 'rickie', 'shaine', 'cammy', 'flower', 'ronny', 'clemmie', 'pietra', 'sharron']\n"
     ]
    }
   ],
   "source": [
    "print(list(devtest.loc[(y_devtest==0) & (log.predict(X_devtest)==1), 'name']))"
   ]
  },
  {
   "cell_type": "markdown",
   "metadata": {
    "pycharm": {
     "name": "#%% md\n"
    }
   },
   "source": [
    "I think one set of features that could be helpful would be the interactions between the counts and the percentages.\n",
    "\n",
    "Let's add those and see how the model reacts."
   ]
  },
  {
   "cell_type": "code",
   "execution_count": 18,
   "metadata": {
    "pycharm": {
     "name": "#%%\n"
    }
   },
   "outputs": [],
   "source": [
    "df['end_1_int'] = df['end_1_count']*df['end_1_male_pct']\n",
    "df['beg_1_int'] = df['beg_1_count']*df['beg_1_male_pct']\n",
    "df['end_2_int'] = df['end_2_count']*df['end_2_male_pct']\n",
    "df['beg_2_int'] = df['beg_2_count']*df['beg_2_male_pct']\n",
    "df['end_3_int'] = df['end_3_count']*df['end_3_male_pct']\n",
    "df['beg_3_int'] = df['beg_3_count']*df['beg_3_male_pct']\n",
    "df['end_4_int'] = df['end_4_count']*df['end_4_male_pct']\n",
    "df['beg_4_int'] = df['beg_4_count']*df['beg_4_male_pct']\n",
    "df['end_5_int'] = df['end_5_count']*df['end_5_male_pct']\n",
    "df['beg_5_int'] = df['beg_5_count']*df['beg_5_male_pct']\n",
    "\n",
    "int_columns = [c for c in df.columns if '_int' in c]\n",
    "X_columns.extend(int_columns)"
   ]
  },
  {
   "cell_type": "markdown",
   "metadata": {
    "pycharm": {
     "name": "#%% md\n"
    }
   },
   "source": [
    "Pull from main DF again"
   ]
  },
  {
   "cell_type": "code",
   "execution_count": 19,
   "metadata": {
    "pycharm": {
     "name": "#%%\n"
    }
   },
   "outputs": [
    {
     "name": "stdout",
     "output_type": "stream",
     "text": [
      "train mean:0.37, devtest mean:0.352, test mean:0.39\n"
     ]
    }
   ],
   "source": [
    "train = df.iloc[train_indexes]\n",
    "test =  df.iloc[test_indexes]\n",
    "devtest =  df.iloc[devtest_indexes]\n",
    "\n",
    "y_train = train['male']\n",
    "X_train = train[X_columns]\n",
    "\n",
    "y_devtest = devtest['male']\n",
    "X_devtest = devtest[X_columns]\n",
    "\n",
    "y_test = test['male']\n",
    "X_test = test[X_columns]\n",
    "\n",
    "print ('train mean:' + str(round(y_train.mean(),3)) + ', devtest mean:' + str(round(y_devtest.mean(),3)) + ', test mean:' + str(round(y_test.mean(),3)))"
   ]
  },
  {
   "cell_type": "code",
   "execution_count": 20,
   "metadata": {
    "pycharm": {
     "name": "#%%\n"
    }
   },
   "outputs": [
    {
     "data": {
      "text/plain": [
       "LogisticRegression(C=1.0, class_weight=None, dual=False, fit_intercept=True,\n",
       "                   intercept_scaling=1, l1_ratio=None, max_iter=100,\n",
       "                   multi_class='auto', n_jobs=None, penalty='l1',\n",
       "                   random_state=None, solver='liblinear', tol=0.0001, verbose=0,\n",
       "                   warm_start=False)"
      ]
     },
     "execution_count": 20,
     "metadata": {},
     "output_type": "execute_result"
    }
   ],
   "source": [
    "log = LogisticRegression(penalty='l1', solver='liblinear')\n",
    "log.fit(X_train, y_train)"
   ]
  },
  {
   "cell_type": "code",
   "execution_count": 21,
   "metadata": {
    "pycharm": {
     "name": "#%%\n"
    }
   },
   "outputs": [
    {
     "name": "stdout",
     "output_type": "stream",
     "text": [
      "beg_4_int        -0.218164\n",
      "length           -0.207504\n",
      "beg_5_int        -0.110689\n",
      "end_5_int        -0.109138\n",
      "end_4_int        -0.056079\n",
      "end_3_int        -0.021172\n",
      "beg_3_int        -0.008926\n",
      "beg_2_int        -0.005054\n",
      "end_1_male_pct   -0.004933\n",
      "end_1_count      -0.000500\n",
      "beg_1_count      -0.000248\n",
      "end_2_int        -0.000217\n",
      "beg_2_na          0.000000\n",
      "end_2_na          0.000000\n",
      "beg_1_na          0.000000\n",
      "end_1_na          0.000000\n",
      "beg_2_male_pct    0.000000\n",
      "end_2_male_pct    0.000000\n",
      "beg_1_male_pct    0.000000\n",
      "beg_2_count       0.000353\n",
      "beg_1_int         0.001060\n",
      "end_2_count       0.001801\n",
      "end_1_int         0.002113\n",
      "beg_3_count       0.002878\n",
      "end_3_count       0.008263\n",
      "end_4_na          0.011498\n",
      "end_4_count       0.017161\n",
      "end_3_na          0.057487\n",
      "beg_4_count       0.076161\n",
      "end_5_count       0.085914\n",
      "beg_5_count       0.099309\n",
      "beg_3_na          0.142310\n",
      "end_5_na          0.327175\n",
      "beg_4_na          0.347594\n",
      "beg_5_na          0.368448\n",
      "beg_3_male_pct    2.359304\n",
      "end_3_male_pct    2.448311\n",
      "end_4_male_pct    2.958256\n",
      "beg_4_male_pct    3.584512\n",
      "beg_5_male_pct    4.333668\n",
      "end_5_male_pct    6.027832\n",
      "dtype: float64\n"
     ]
    }
   ],
   "source": [
    "print(pd.Series(log.coef_[0], index=X_columns).sort_values())"
   ]
  },
  {
   "cell_type": "code",
   "execution_count": 22,
   "metadata": {
    "pycharm": {
     "name": "#%%\n"
    }
   },
   "outputs": [
    {
     "name": "stdout",
     "output_type": "stream",
     "text": [
      "Training Accuracy: 95.7%\n",
      "Dev-Test Accuracy: 80.6%\n",
      "289 accurately predicted males, 114 accurately predicted females\n",
      "35 false-males, 62 false-females\n"
     ]
    }
   ],
   "source": [
    "print (\"Training Accuracy: \" + str(round(100*log.score(X_train,y_train),1)) + '%')\n",
    "print(\"Dev-Test Accuracy: \" + str(round(100*log.score(X_devtest,y_devtest),1)) + '%')\n",
    "cm = confusion_matrix(y_devtest, log.predict(X_devtest))\n",
    "print(str(cm[0,0]) + \" accurately predicted males, \" + str(cm[1,1]) + \" accurately predicted females\")\n",
    "print(str(cm[0,1]) + \" false-males, \" + str(cm[1,0]) + \" false-females\")"
   ]
  },
  {
   "cell_type": "markdown",
   "metadata": {},
   "source": [
    "So, pretty similar performance.  Let's try LASSO, which should help a bit with the overfitting.  It will use 5 fold cross-validation to give us the best value for Alpha."
   ]
  },
  {
   "cell_type": "code",
   "execution_count": 23,
   "metadata": {
    "scrolled": true
   },
   "outputs": [
    {
     "name": "stdout",
     "output_type": "stream",
     "text": [
      "length           -7.617802e-03\n",
      "end_4_int        -3.669512e-03\n",
      "end_3_int        -1.188740e-03\n",
      "beg_5_count      -9.149040e-04\n",
      "beg_4_int        -3.687655e-04\n",
      "beg_3_int        -2.978957e-04\n",
      "end_2_int        -1.181934e-04\n",
      "beg_2_count      -3.856826e-05\n",
      "beg_1_count      -3.430547e-05\n",
      "beg_2_na          0.000000e+00\n",
      "end_3_na          0.000000e+00\n",
      "beg_3_na          0.000000e+00\n",
      "beg_5_na          0.000000e+00\n",
      "end_1_na          0.000000e+00\n",
      "end_2_male_pct    0.000000e+00\n",
      "beg_1_male_pct    0.000000e+00\n",
      "end_2_na          0.000000e+00\n",
      "beg_2_int        -0.000000e+00\n",
      "beg_2_male_pct    0.000000e+00\n",
      "beg_1_na          0.000000e+00\n",
      "beg_4_na          8.015003e-16\n",
      "end_1_count       8.542678e-06\n",
      "end_2_count       2.897347e-05\n",
      "end_1_int         3.341123e-05\n",
      "beg_1_int         1.344904e-04\n",
      "beg_3_count       1.786433e-04\n",
      "end_3_count       1.915037e-04\n",
      "end_5_count       2.765536e-04\n",
      "end_4_count       4.730704e-04\n",
      "beg_4_count       6.868930e-04\n",
      "beg_5_male_pct    1.082240e-03\n",
      "beg_5_int         5.854027e-03\n",
      "end_5_int         1.260345e-02\n",
      "end_1_male_pct    1.324093e-02\n",
      "end_5_na          2.058425e-02\n",
      "beg_3_male_pct    8.935970e-02\n",
      "end_4_na          9.824869e-02\n",
      "end_3_male_pct    1.719280e-01\n",
      "beg_4_male_pct    2.579845e-01\n",
      "end_4_male_pct    2.972829e-01\n",
      "end_5_male_pct    4.010121e-01\n",
      "dtype: float64\n"
     ]
    }
   ],
   "source": [
    "from sklearn.linear_model import LassoCV\n",
    "lasso = LassoCV(alphas=[1, 0.8, 0.5, 0.2, 0.1, 0.01, 0.001, 0.0005, 0]).fit(X=X_train, y=y_train)\n",
    "\n",
    "###Model Lasso regression\n",
    "print(pd.Series(lasso.coef_, index=X_columns).sort_values())\n"
   ]
  },
  {
   "cell_type": "code",
   "execution_count": 24,
   "metadata": {},
   "outputs": [
    {
     "name": "stdout",
     "output_type": "stream",
     "text": [
      "Training Accuracy: 95.7%\n",
      "Dev-Test Accuracy: 81.8%\n",
      "287 accurately predicted males, 122 accurately predicted females\n",
      "37 false-males, 54 false-females\n"
     ]
    }
   ],
   "source": [
    "\n",
    "log = LogisticRegressionCV(penalty='l1', solver='liblinear', Cs = 10, cv = 5)\n",
    "log.fit(X_train, y_train)\n",
    "\n",
    "print (\"Training Accuracy: \" + str(round(100*log.score(X_train,y_train),1)) + '%')\n",
    "print(\"Dev-Test Accuracy: \" + str(round(100*log.score(X_devtest,y_devtest),1)) + '%')\n",
    "cm = confusion_matrix(y_devtest, log.predict(X_devtest))\n",
    "print(str(cm[0,0]) + \" accurately predicted males, \" + str(cm[1,1]) + \" accurately predicted females\")\n",
    "print(str(cm[0,1]) + \" false-males, \" + str(cm[1,0]) + \" false-females\")"
   ]
  },
  {
   "cell_type": "markdown",
   "metadata": {},
   "source": [
    "OK, one last try.  Let's use a boosted tree to see if we can get better results than with the Logistic Regression.  XGBoost has a bunch of different hyperparameters - I will use a grid search to select the best ones."
   ]
  },
  {
   "cell_type": "code",
   "execution_count": 25,
   "metadata": {},
   "outputs": [
    {
     "name": "stdout",
     "output_type": "stream",
     "text": [
      "Fitting 5 folds for each of 25 candidates, totalling 125 fits\n"
     ]
    },
    {
     "name": "stderr",
     "output_type": "stream",
     "text": [
      "[Parallel(n_jobs=-1)]: Using backend LokyBackend with 16 concurrent workers.\n",
      "[Parallel(n_jobs=-1)]: Done 125 out of 125 | elapsed:   58.5s finished\n"
     ]
    },
    {
     "data": {
      "text/plain": [
       "XGBClassifier(base_score=0.5, booster='gbtree', colsample_bylevel=1,\n",
       "              colsample_bynode=1, colsample_bytree=0.6795544161540505, gamma=0,\n",
       "              learning_rate=0.0403783678365819, max_delta_step=0, max_depth=3,\n",
       "              min_child_weight=2, missing=None, n_estimators=129, n_jobs=1,\n",
       "              nthread=None, objective='binary:logistic', random_state=1254,\n",
       "              reg_alpha=0, reg_lambda=1, scale_pos_weight=1, seed=None,\n",
       "              silent=None, subsample=0.7118978672086654, verbosity=1)"
      ]
     },
     "execution_count": 25,
     "metadata": {},
     "output_type": "execute_result"
    }
   ],
   "source": [
    "xgb = XGBClassifier(objective = 'binary:logistic', random_state = seed)\n",
    "param_dist = {'n_estimators': stats.randint(5, 1000),\n",
    "              'learning_rate': stats.uniform(0.01, 0.07),\n",
    "              'subsample': stats.uniform(0.3, 0.7),\n",
    "              'max_depth': [2, 3, 4, 5, 6, 7, 8, 9],\n",
    "              'colsample_bytree': stats.uniform(0.5, 0.45),\n",
    "              'min_child_weight': [1, 2, 3]\n",
    "             }\n",
    "xg = RandomizedSearchCV(xgb, param_distributions = param_dist, n_iter = 25, scoring = 'f1', error_score = 0, verbose = 3, n_jobs = -1)\n",
    "xg.fit(X_train, y_train)\n",
    "xg.best_estimator_"
   ]
  },
  {
   "cell_type": "code",
   "execution_count": 26,
   "metadata": {},
   "outputs": [
    {
     "name": "stdout",
     "output_type": "stream",
     "text": [
      "Training Accuracy: 95.7%\n",
      "Dev-Test Accuracy: 81.0%\n",
      "288 accurately predicted males, 117 accurately predicted females\n",
      "36 false-males, 59 false-females\n"
     ]
    }
   ],
   "source": [
    "print (\"Training Accuracy: \" + str(round(100*sum(y_train== xg.predict(X_train))/len(y_train),1)) + '%')\n",
    "print(\"Dev-Test Accuracy: \" + str(round(100*sum(y_devtest== xg.predict(X_devtest))/len(y_devtest),1)) + '%')\n",
    "cm = confusion_matrix(y_devtest, xg.predict(X_devtest))\n",
    "print(str(cm[0,0]) + \" accurately predicted males, \" + str(cm[1,1]) + \" accurately predicted females\")\n",
    "print(str(cm[0,1]) + \" false-males, \" + str(cm[1,0]) + \" false-females\")"
   ]
  },
  {
   "cell_type": "markdown",
   "metadata": {},
   "source": [
    "Well our accuracy went down a bit now. So I guess we should be back to the LASSO regression.  For fun we'll see which one works better on the test set. First, the regression:"
   ]
  },
  {
   "cell_type": "code",
   "execution_count": 50,
   "metadata": {},
   "outputs": [
    {
     "name": "stdout",
     "output_type": "stream",
     "text": [
      "Test Accuracy: 76.6%\n",
      "262 accurately predicted males, 121 accurately predicted females\n",
      "43 false-males, 74 false-females\n"
     ]
    }
   ],
   "source": [
    "print(\"Test Accuracy: \" + str(round(100*sum(y_test== log.predict(X_test))/len(y_test),1)) + '%')\n",
    "cm2 = confusion_matrix(y_test, log.predict(X_test))\n",
    "print(str(cm2[0,0]) + \" accurately predicted males, \" + str(cm2[1,1]) + \" accurately predicted females\")\n",
    "print(str(cm2[0,1]) + \" false-males, \" + str(cm2[1,0]) + \" false-females\")"
   ]
  },
  {
   "cell_type": "markdown",
   "metadata": {},
   "source": [
    "Quite a bit down there.  And the boosted tree:"
   ]
  },
  {
   "cell_type": "code",
   "execution_count": 51,
   "metadata": {},
   "outputs": [
    {
     "name": "stdout",
     "output_type": "stream",
     "text": [
      "Test Accuracy: 77.0%\n",
      "266 accurately predicted males, 119 accurately predicted females\n",
      "39 false-males, 76 false-females\n"
     ]
    }
   ],
   "source": [
    "print(\"Test Accuracy: \" + str(round(100*sum(y_test== xg.predict(X_test))/len(y_test),1)) + '%')\n",
    "cm2 = confusion_matrix(y_test, xg.predict(X_test))\n",
    "print(str(cm2[0,0]) + \" accurately predicted males, \" + str(cm2[1,1]) + \" accurately predicted females\")\n",
    "print(str(cm2[0,1]) + \" false-males, \" + str(cm2[1,0]) + \" false-females\")"
   ]
  },
  {
   "cell_type": "markdown",
   "metadata": {},
   "source": [
    "OK, so both seemed to lose accuracy when moving to the test set.  This makes sense as we added an extra layer of overfitting by tuning using the devtest set.  "
   ]
  },
  {
   "cell_type": "markdown",
   "metadata": {},
   "source": [
    "Vido: https://youtu.be/1zqCuJvXSXs"
   ]
  }
 ],
 "metadata": {
  "kernelspec": {
   "display_name": "Python 3",
   "language": "python",
   "name": "python3"
  },
  "language_info": {
   "codemirror_mode": {
    "name": "ipython",
    "version": 3
   },
   "file_extension": ".py",
   "mimetype": "text/x-python",
   "name": "python",
   "nbconvert_exporter": "python",
   "pygments_lexer": "ipython3",
   "version": "3.7.6"
  }
 },
 "nbformat": 4,
 "nbformat_minor": 1
}
